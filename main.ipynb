{
  "nbformat": 4,
  "nbformat_minor": 0,
  "metadata": {
    "kernelspec": {
      "name": "python3",
      "display_name": "Python 3"
    },
    "language_info": {
      "codemirror_mode": {
        "name": "ipython",
        "version": 3
      },
      "file_extension": ".py",
      "mimetype": "text/x-python",
      "name": "python",
      "nbconvert_exporter": "python",
      "pygments_lexer": "ipython3",
      "version": "3.7.4"
    },
    "pycharm": {
      "stem_cell": {
        "cell_type": "raw",
        "metadata": {
          "collapsed": false
        },
        "source": []
      }
    },
    "colab": {
      "name": "main.ipynb",
      "provenance": [],
      "collapsed_sections": []
    },
    "accelerator": "GPU"
  },
  "cells": [
    {
      "cell_type": "markdown",
      "metadata": {
        "collapsed": true,
        "pycharm": {
          "is_executing": false
        },
        "id": "22NKuno-qtbv",
        "colab_type": "text"
      },
      "source": [
        "# Import Modules"
      ]
    },
    {
      "cell_type": "code",
      "metadata": {
        "id": "kriBNwPMqtbz",
        "colab_type": "code",
        "colab": {}
      },
      "source": [
        "%matplotlib inline\n",
        "import torch\n",
        "import torch.nn as nn\n",
        "import torch.nn.functional as F\n",
        "import torchvision.transforms as transforms\n",
        "import torchvision.datasets as dsets\n",
        "import random\n",
        "import numpy as np\n",
        "import torchvision\n",
        "import matplotlib.pyplot as plt\n",
        "from hyperopt import fmin, tpe, hp\n",
        "import time\n",
        "import copy\n",
        "import os"
      ],
      "execution_count": 0,
      "outputs": []
    },
    {
      "cell_type": "markdown",
      "metadata": {
        "collapsed": true,
        "pycharm": {
          "is_executing": false
        },
        "id": "AwfgfyPdqtb4",
        "colab_type": "text"
      },
      "source": [
        "# Check Available Devices\n"
      ]
    },
    {
      "cell_type": "code",
      "metadata": {
        "id": "_xdHa9xQqtb4",
        "colab_type": "code",
        "colab": {
          "base_uri": "https://localhost:8080/",
          "height": 34
        },
        "outputId": "b6805a70-2f18-47f3-e7b2-ba1c4a4a831b"
      },
      "source": [
        "if torch.cuda.is_available:\n",
        "  avDev = torch.device(\"cuda\")\n",
        "else:\n",
        "  avDev = torch.device(\"cpu\")\n",
        "print(avDev)"
      ],
      "execution_count": 2,
      "outputs": [
        {
          "output_type": "stream",
          "text": [
            "cuda\n"
          ],
          "name": "stdout"
        }
      ]
    },
    {
      "cell_type": "markdown",
      "metadata": {
        "collapsed": true,
        "pycharm": {
          "is_executing": false
        },
        "id": "r-hP4do1qtb7",
        "colab_type": "text"
      },
      "source": [
        "# Set Seed"
      ]
    },
    {
      "cell_type": "code",
      "metadata": {
        "id": "XNpBgXb6qtb8",
        "colab_type": "code",
        "colab": {}
      },
      "source": [
        "seed = 1\n",
        "torch.manual_seed(seed)\n",
        "random.seed(seed)\n",
        "torch.cuda.manual_seed(seed)\n",
        "np.random.seed(seed)\n",
        "torch.backends.cudnn.deterministic=True"
      ],
      "execution_count": 0,
      "outputs": []
    },
    {
      "cell_type": "markdown",
      "metadata": {
        "collapsed": true,
        "pycharm": {
          "is_executing": false
        },
        "id": "rtv7fnvYqtcA",
        "colab_type": "text"
      },
      "source": [
        "# Utility for Displaying Images, Error Curve"
      ]
    },
    {
      "cell_type": "code",
      "metadata": {
        "id": "ZYAs2u4UqtcC",
        "colab_type": "code",
        "colab": {}
      },
      "source": [
        "def showImagesWithLabels(img,labels):\n",
        "    img = img / 2 + 0.5     # unnormalize\n",
        "    img = img.numpy()\n",
        "    plt.imshow(np.transpose(img, (1, 2, 0)))\n",
        "    plt.show()"
      ],
      "execution_count": 0,
      "outputs": []
    },
    {
      "cell_type": "code",
      "metadata": {
        "id": "U4rao7QJCbjz",
        "colab_type": "code",
        "colab": {}
      },
      "source": [
        "def plot_error_curve(errors):\n",
        "  plt.suptitle('Learning Curve', fontsize=20)\n",
        "  plt.xlabel('Iterations', fontsize=18)\n",
        "  plt.ylabel('Classification Error', fontsize=16)\n",
        "  plt.plot(np.array(errors))"
      ],
      "execution_count": 0,
      "outputs": []
    },
    {
      "cell_type": "code",
      "metadata": {
        "id": "6XEvFCNQqtcG",
        "colab_type": "code",
        "colab": {}
      },
      "source": [
        "def showSegmentedImage(colorMapList):  #Hopefully this should work"
      ],
      "execution_count": 0,
      "outputs": []
    },
    {
      "cell_type": "markdown",
      "metadata": {
        "collapsed": true,
        "pycharm": {
          "is_executing": false
        },
        "id": "Wd4bO9JpqtcK",
        "colab_type": "text"
      },
      "source": [
        "# Load Data Functions"
      ]
    },
    {
      "cell_type": "code",
      "metadata": {
        "id": "piF6h_W7qtcL",
        "colab_type": "code",
        "colab": {}
      },
      "source": [
        "def transforms(listTransforms):\n",
        "    transforms.Compose(listTransforms)"
      ],
      "execution_count": 0,
      "outputs": []
    },
    {
      "cell_type": "code",
      "metadata": {
        "id": "csjIkE6GqtcN",
        "colab_type": "code",
        "colab": {}
      },
      "source": [
        "def loadDataSet(dirName,toshuffle):\n",
        "#Only for the labelled image data\n",
        "imagenet_data = torchvision.datasets.ImageNet(dirName)\n",
        "data_loader = torch.utils.data.DataLoader(imagenet_data,\n",
        "                                          shuffle=toshuffle)"
      ],
      "execution_count": 0,
      "outputs": []
    },
    {
      "cell_type": "markdown",
      "metadata": {
        "collapsed": true,
        "pycharm": {
          "is_executing": false
        },
        "id": "fj4-3YhnqtcR",
        "colab_type": "text"
      },
      "source": [
        "# Hyperparameter"
      ]
    },
    {
      "cell_type": "code",
      "metadata": {
        "id": "7furajqrqtcS",
        "colab_type": "code",
        "colab": {}
      },
      "source": [
        "lr\n",
        "batchSize\n",
        "epoch\n",
        "optimizer\n"
      ],
      "execution_count": 0,
      "outputs": []
    },
    {
      "cell_type": "markdown",
      "metadata": {
        "collapsed": true,
        "pycharm": {
          "is_executing": false
        },
        "id": "4HPtfqQeqtcW",
        "colab_type": "text"
      },
      "source": [
        "# Load Data And Make Iterable"
      ]
    },
    {
      "cell_type": "code",
      "metadata": {
        "id": "Hdn3E4u6rQYs",
        "colab_type": "code",
        "colab": {
          "base_uri": "https://localhost:8080/",
          "height": 195
        },
        "outputId": "5a0e0679-0ce2-42e1-ddd4-149187fdd6b9"
      },
      "source": [
        "listTransforms = [transforms.RandomHorizontalFlip(0.5),\n",
        "        transforms.ToTensor(),\n",
        "        transforms.Normalize((0.4914, 0.4822, 0.4465), (0.247, 0.243, 0.261))]\n",
        "transforms(listTransforms)\n",
        "loadDataSet(dirName,toShuffle)#Here specify train and test"
      ],
      "execution_count": 9,
      "outputs": [
        {
          "output_type": "error",
          "ename": "TypeError",
          "evalue": "ignored",
          "traceback": [
            "\u001b[0;31m---------------------------------------------------------------------------\u001b[0m",
            "\u001b[0;31mTypeError\u001b[0m                                 Traceback (most recent call last)",
            "\u001b[0;32m<ipython-input-9-57743ffd69cf>\u001b[0m in \u001b[0;36m<module>\u001b[0;34m()\u001b[0m\n\u001b[1;32m      2\u001b[0m         \u001b[0mtransforms\u001b[0m\u001b[0;34m.\u001b[0m\u001b[0mToTensor\u001b[0m\u001b[0;34m(\u001b[0m\u001b[0;34m)\u001b[0m\u001b[0;34m,\u001b[0m\u001b[0;34m\u001b[0m\u001b[0;34m\u001b[0m\u001b[0m\n\u001b[1;32m      3\u001b[0m         transforms.Normalize((0.4914, 0.4822, 0.4465), (0.247, 0.243, 0.261))]\n\u001b[0;32m----> 4\u001b[0;31m \u001b[0mtransforms\u001b[0m\u001b[0;34m(\u001b[0m\u001b[0mlistTransforms\u001b[0m\u001b[0;34m)\u001b[0m\u001b[0;34m\u001b[0m\u001b[0;34m\u001b[0m\u001b[0m\n\u001b[0m",
            "\u001b[0;31mTypeError\u001b[0m: 'module' object is not callable"
          ]
        }
      ]
    },
    {
      "cell_type": "code",
      "metadata": {
        "id": "FEKjakWCqtcW",
        "colab_type": "code",
        "colab": {}
      },
      "source": [
        "dataiter = train_loader.__iter__()#whichever loaded\n",
        "images, labels = dataiter.next()"
      ],
      "execution_count": 0,
      "outputs": []
    },
    {
      "cell_type": "markdown",
      "metadata": {
        "collapsed": true,
        "pycharm": {
          "is_executing": false
        },
        "id": "O7dcYMh5qtca",
        "colab_type": "text"
      },
      "source": [
        "# Model Definition"
      ]
    },
    {
      "cell_type": "code",
      "metadata": {
        "id": "eB8U8qs3qtcb",
        "colab_type": "code",
        "colab": {}
      },
      "source": [
        ""
      ],
      "execution_count": 0,
      "outputs": []
    },
    {
      "cell_type": "code",
      "metadata": {
        "id": "Hs2mkTpfqtcd",
        "colab_type": "code",
        "colab": {}
      },
      "source": [
        ""
      ],
      "execution_count": 0,
      "outputs": []
    },
    {
      "cell_type": "markdown",
      "metadata": {
        "collapsed": true,
        "pycharm": {
          "is_executing": false
        },
        "id": "ltbSuwBlqtcg",
        "colab_type": "text"
      },
      "source": [
        "# Training Cycle"
      ]
    },
    {
      "cell_type": "code",
      "metadata": {
        "id": "g3Gl5b2Wqtci",
        "colab_type": "code",
        "colab": {}
      },
      "source": [
        "def train(args):   #Consist of all args from hyperopt\n",
        "    \n",
        "    return loss.item()"
      ],
      "execution_count": 0,
      "outputs": []
    },
    {
      "cell_type": "code",
      "metadata": {
        "id": "_NCv-Jj2qtcm",
        "colab_type": "code",
        "colab": {}
      },
      "source": [
        "def train_model(model, criterion, optimizer, scheduler, num_epochs=25):\n",
        "    return model"
      ],
      "execution_count": 0,
      "outputs": []
    },
    {
      "cell_type": "markdown",
      "metadata": {
        "collapsed": true,
        "pycharm": {
          "is_executing": false
        },
        "id": "1wPpRNF3qtcp",
        "colab_type": "text"
      },
      "source": [
        "# Hyperopt"
      ]
    },
    {
      "cell_type": "code",
      "metadata": {
        "id": "GuIweHbhqtcp",
        "colab_type": "code",
        "colab": {}
      },
      "source": [
        "optimizers = [torch.optim.SGD, torch.optim.Adam, torch.optim.Adagrad, torch.optim.Adadelta, torch.optim.RMSprop]\n",
        "regularizers = ['l1','l2']\n",
        "space = [hp.choice('number_of_layers',list_of_layers),hp.choice('optimizer',optimizers),hp.choice('regularizer',regularizers)]\n",
        "best_classifier = fmin(train,space,algo=tpe.suggest,max_evals=30)\n",
        "optimizer = optimizers[int(best_classifier['optimizer'])]\n",
        "\n"
      ],
      "execution_count": 0,
      "outputs": []
    },
    {
      "cell_type": "code",
      "metadata": {
        "id": "bgWGV_xRqtcs",
        "colab_type": "code",
        "colab": {}
      },
      "source": [
        "#Use the best found optimizer and criterion\n",
        "exp_lr_scheduler = lr_scheduler.StepLR(optimizer, step_size=7, gamma=0.1)\n",
        "\n",
        "model = train_model(model, criterion, optimizer, exp_lr_scheduler,\n",
        "                       num_epochs=25)"
      ],
      "execution_count": 0,
      "outputs": []
    },
    {
      "cell_type": "markdown",
      "metadata": {
        "collapsed": true,
        "pycharm": {
          "is_executing": false
        },
        "id": "ElZk6fi8qtcu",
        "colab_type": "text"
      },
      "source": [
        "# Visualization of Results"
      ]
    },
    {
      "cell_type": "code",
      "metadata": {
        "id": "IJYeWwAHqtcu",
        "colab_type": "code",
        "colab": {}
      },
      "source": [
        "#I think this got covered "
      ],
      "execution_count": 0,
      "outputs": []
    },
    {
      "cell_type": "markdown",
      "metadata": {
        "collapsed": true,
        "pycharm": {
          "is_executing": false
        },
        "id": "jwn8Bex5qtc0",
        "colab_type": "text"
      },
      "source": [
        "# Metric Measures"
      ]
    },
    {
      "cell_type": "code",
      "metadata": {
        "id": "Nun1TQ7jqtc1",
        "colab_type": "code",
        "colab": {}
      },
      "source": [
        ""
      ],
      "execution_count": 0,
      "outputs": []
    }
  ]
}